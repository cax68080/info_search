{
 "cells": [
  {
   "cell_type": "markdown",
   "id": "01fe1a94",
   "metadata": {},
   "source": [
    "# Chapter 4 文書のランキング"
   ]
  },
  {
   "cell_type": "code",
   "execution_count": 17,
   "id": "a70e94f9",
   "metadata": {},
   "outputs": [],
   "source": [
    "import common_func as cf"
   ]
  },
  {
   "cell_type": "markdown",
   "id": "a7fa5bf5",
   "metadata": {},
   "source": [
    "## 4.1 特徴語集合の類似性"
   ]
  },
  {
   "cell_type": "code",
   "execution_count": 19,
   "id": "26a8a35d",
   "metadata": {},
   "outputs": [],
   "source": [
    "# jaccard関数\n",
    "# X,Yはiterative\n",
    "def jaccard(X,Y):\n",
    "    x = set(X)\n",
    "    y = set(Y)\n",
    "    a = len(x.intersection(y))\n",
    "    b = len(x.union(y))\n",
    "    if b == 0:\n",
    "        return 0\n",
    "    else:\n",
    "        return a / b\n",
    "    "
   ]
  },
  {
   "cell_type": "code",
   "execution_count": 18,
   "id": "80a17ccd",
   "metadata": {},
   "outputs": [
    {
     "name": "stdout",
     "output_type": "stream",
     "text": [
      "ブラックホールと時空の方程式 0.1111\n",
      "逆数学 0.1111\n",
      "64の事例からわかる金属腐食の対策 0.0526\n",
      "Coq/SSReflect/MathCompによる定理証明 0.0526\n",
      "基礎からわかる高分子材料 0.0000\n",
      "ゼロからはじめるVisual_C#入門 0.0000\n",
      "実践_地域・まちづくりワーク 0.0000\n",
      "応用数学問題集 0.0000\n",
      "生態系生態学(第2版) 0.0000\n"
     ]
    }
   ],
   "source": [
    "# ランキングの計算\n",
    "# 紹介文を読み込む\n",
    "book_texts = [cf.get_string_from_file('irpb-files/data/ch04/%d.txt' % i) for i in range(10)]\n",
    "\n",
    "# 各紹介文の語の重みを計算する\n",
    "# 補助的なコーパスとして青空文庫を使用する\n",
    "tfidf_model,dic,book_weights = cf.get_tfidfmodel_and_weights(book_texts)\n",
    "\n",
    "# 書籍ごとに上位10の特徴語(のID)リストを作成する\n",
    "# book_weightsには、IDとTF・IDFの値が組になっている\n",
    "# そこからIDだけをぬきだす\n",
    "keyword_lists = [[x[0] for x in w[:10]] for w in book_weights]\n",
    "\n",
    "# resultsの要素は(i,i番目の書籍との類似度)\n",
    "# 「定理のつくりかた」の番号は9(9.txt)\n",
    "results = [(x,jaccard(keyword_lists[9],keyword_lists[x])) for x in range(9)]\n",
    "\n",
    "# 類似度で降順にソート\n",
    "results.sort(key=lambda x: x[1],reverse=True)\n",
    "\n",
    "# 書籍のタイトルを読み込む。i番目の書籍のタイトルはtitles[i]\n",
    "with open('irpb-files/data/ch04/book-titles.txt',encoding='UTF-8') as f:\n",
    "    titles = f.read().strip().split('\\n')\n",
    "    \n",
    "# ランキング結果を表示する\n",
    "for x in range(9):\n",
    "    print('%s %.4f' % (titles[results[x][0]],results[x][1]))\n"
   ]
  },
  {
   "cell_type": "markdown",
   "id": "fb8fda97",
   "metadata": {},
   "source": [
    "## 4.2 ベクトル空間モデル"
   ]
  },
  {
   "cell_type": "code",
   "execution_count": 20,
   "id": "27559b0f",
   "metadata": {},
   "outputs": [
    {
     "name": "stdout",
     "output_type": "stream",
     "text": [
      "dic[0] = 団子\n",
      "dic[1] = 花\n",
      "dic[2] = あんこ\n",
      "dic[3] = きなこ\n",
      "dic[4] = みたらし\n",
      "weights =  [(2, 0.8165), (3, 0.4082), (4, 0.4082)]\n"
     ]
    }
   ],
   "source": [
    "# 語の重みの計算\n",
    "from gensim import corpora,models\n",
    "\n",
    "texts = ['花より団子・とにかく団子。','みたらしよりあんこ、あんこよりきなこ。']\n",
    "words = [cf.get_words(text,keep_pos=['名詞']) for text in texts]\n",
    "dic = corpora.Dictionary(words)\n",
    "\n",
    "# 辞書の中身を列挙する\n",
    "for i in range(len(dic)):\n",
    "    print('dic[%d] = %s' % (i,dic[i]))\n",
    "    \n",
    "bows = [dic.doc2bow(w) for w in words]\n",
    "tfidf = models.TfidfModel(bows)\n",
    "\n",
    "# 1番目の文書の語とその重みを取得する。\n",
    "weights = tfidf[bows[1]]\n",
    "\n",
    "# 説明の都合上、小数点以下4位より下のけたを丸める\n",
    "weights = [(i,round(j,4)) for i,j in weights]\n",
    "\n",
    "# 1番目の文書の語とその重みを表示する\n",
    "print('weights = ',weights)"
   ]
  },
  {
   "cell_type": "code",
   "execution_count": 21,
   "id": "6461dd8f",
   "metadata": {},
   "outputs": [],
   "source": [
    "# コサイン類似度を計算するvsm_search関数\n",
    "\n",
    "from gensim.similarities import MatrixSimilarity\n",
    "\n",
    "def vsm_search(texts,query):\n",
    "    tfidf_model,dic,text_weights = cf.get_tfidfmodel_and_weights(texts)\n",
    "    \n",
    "    index = MatrixSimilarity(text_weights,num_features=len(dic))\n",
    "    \n",
    "    # queryのbag-of-wordsを作成し、重みを計算\n",
    "    query_bows = cf.get_bows([query],dic)\n",
    "    query_weights = cf.get_weights(query_bows,dic,tfidf_model)\n",
    "    \n",
    "    # 類似度計算\n",
    "    sims = index[query_weights[0]]\n",
    "    \n",
    "    # 類似度で降順にソートする\n",
    "    return sorted(enumerate(sims),key=lambda x: x[1],reverse=True)\n",
    "\n",
    "# ファイルに保存されているリストを読みだす\n",
    "def get_list_from_file(file_name):\n",
    "    with open(file_name,'r',encoding='UTF-8') as f:\n",
    "        return f.read().split()\n",
    "    \n"
   ]
  },
  {
   "cell_type": "code",
   "execution_count": 22,
   "id": "3129351b",
   "metadata": {},
   "outputs": [
    {
     "name": "stdout",
     "output_type": "stream",
     "text": [
      "逆数学 0.4204\n",
      "ブラックホールと時空の方程式 0.2737\n",
      "Coq/SSReflect/MathCompによる定理証明 0.1746\n",
      "応用数学問題集 0.1195\n",
      "64の事例からわかる金属腐食の対策 0.0660\n",
      "実践_地域・まちづくりワーク 0.0381\n",
      "ゼロからはじめるVisual_C#入門 0.0262\n",
      "生態系生態学(第2版) 0.0259\n",
      "基礎からわかる高分子材料 0.0243\n"
     ]
    }
   ],
   "source": [
    "# vsm_searchによるランキング\n",
    "\n",
    "# 書籍紹介文のデータを読み込む。\n",
    "book_texts = [cf.get_string_from_file('irpb-files/data/ch04/%d.txt' % i) for i in range(10)]\n",
    "\n",
    "# 書籍のタイトルを読み込む\n",
    "titles = get_list_from_file('irpb-files/data/ch04/book-titles.txt')\n",
    "\n",
    "# 類似度の計算とランキング\n",
    "# book_texts[9]は「定理のつくりかた」。book_texts[:-1]はそれ以外\n",
    "result = vsm_search(book_texts[:-1],book_texts[9])\n",
    "\n",
    "# 文書番号をタイトルに変換して出力する\n",
    "for x in range(9):\n",
    "    print('%s %.4f' % (titles[result[x][0]],result[x][1]))"
   ]
  },
  {
   "cell_type": "code",
   "execution_count": 26,
   "id": "d1806b9e",
   "metadata": {},
   "outputs": [
    {
     "name": "stdout",
     "output_type": "stream",
     "text": [
      "64の事例からわかる金属腐食の対策 0.1283\n",
      "ゼロからはじめるVisual_C#入門 0.1269\n",
      "逆数学 0.1059\n",
      "定理のつくりかた 0.0729\n",
      "生態系生態学(第2版) 0.0662\n",
      "実践_地域・まちづくりワーク 0.0612\n",
      "応用数学問題集 0.0476\n",
      "ブラックホールと時空の方程式 0.0393\n",
      "Coq/SSReflect/MathCompによる定理証明 0.0344\n",
      "基礎からわかる高分子材料 0.0000\n"
     ]
    }
   ],
   "source": [
    "# ベクトル空間モデルに基づく検索\n",
    "texts = [cf.get_string_from_file('irpb-files/data/ch04/%d.txt' % i) for i in range(10)]\n",
    "titles = get_list_from_file('irpb-files/data/ch04/book-titles.txt')\n",
    "query = '解説'\n",
    "result = vsm_search(texts,query)\n",
    "for x in range(len(result)):\n",
    "    print('%s %.4f' % (titles[result[x][0]],result[x][1]))\n"
   ]
  },
  {
   "cell_type": "code",
   "execution_count": null,
   "id": "bf62fa6c",
   "metadata": {},
   "outputs": [],
   "source": []
  }
 ],
 "metadata": {
  "kernelspec": {
   "display_name": "Python 3 (ipykernel)",
   "language": "python",
   "name": "python3"
  },
  "language_info": {
   "codemirror_mode": {
    "name": "ipython",
    "version": 3
   },
   "file_extension": ".py",
   "mimetype": "text/x-python",
   "name": "python",
   "nbconvert_exporter": "python",
   "pygments_lexer": "ipython3",
   "version": "3.9.7"
  }
 },
 "nbformat": 4,
 "nbformat_minor": 5
}
