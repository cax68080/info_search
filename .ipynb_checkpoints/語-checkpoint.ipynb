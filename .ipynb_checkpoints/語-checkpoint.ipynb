{
 "cells": [
  {
   "cell_type": "markdown",
   "id": "1aa4967c",
   "metadata": {},
   "source": [
    "# Chapter 2 語"
   ]
  },
  {
   "cell_type": "markdown",
   "id": "a31d106f",
   "metadata": {},
   "source": [
    "## 2.1 形態素解析"
   ]
  },
  {
   "cell_type": "code",
   "execution_count": 1,
   "id": "7c41a9f7",
   "metadata": {},
   "outputs": [],
   "source": [
    "import ch01_func as c1"
   ]
  },
  {
   "cell_type": "code",
   "execution_count": 4,
   "id": "4cb604f2",
   "metadata": {
    "collapsed": true
   },
   "outputs": [
    {
     "name": "stdout",
     "output_type": "stream",
     "text": [
      "ALICE’S\n",
      "ADVENTURES\n",
      "IN\n",
      "WONDERLAND\n",
      "Lewis\n",
      "Carroll\n",
      "THE\n",
      "MILLENNIUM\n",
      "FULCRUM\n",
      "EDITION\n"
     ]
    }
   ],
   "source": [
    "# 英文テキストデータの単語単位の分割\n",
    "import re\n",
    "\n",
    "string = c1.get_string_from_file('irpb-files/data/ch02/alice.txt')\n",
    "tokens = re.split('[ \\n\\.]+',string)\n",
    "for t in tokens[:10]:\n",
    "    print(t)\n"
   ]
  },
  {
   "cell_type": "code",
   "execution_count": 5,
   "id": "69ab886b",
   "metadata": {},
   "outputs": [],
   "source": [
    "# 分かち書きに基づく検索を行うgat_m_snipet_from_file関数\n",
    "from janome.tokenizer import Tokenizer\n",
    "\n",
    "def get_m_snippet_from_file(filename,query,width=3):\n",
    "    t = Tokenizer(wakati=True)\n",
    "    qlist = list(t.tokenize((query)))\n",
    "    qlen = len(qlist)\n",
    "    s = c1.get_string_from_file(filename)\n",
    "    slist = list(t.tokenize(s))\n",
    "    for i in [k for k,v in enumerate(slist) if v == qlist[0]]:\n",
    "        if qlist == slist[i:i + qlen]:\n",
    "            return ''.join(slist[max(0,i - width):i + width + qlen])\n",
    "    return None"
   ]
  },
  {
   "cell_type": "code",
   "execution_count": 8,
   "id": "f9b2948e",
   "metadata": {},
   "outputs": [
    {
     "name": "stdout",
     "output_type": "stream",
     "text": [
      "irpb-files/data/ch01/01.txt None\n",
      "irpb-files/data/ch01/02.txt None\n",
      "irpb-files/data/ch01/03.txt None\n",
      "irpb-files/data/ch01/04.txt 築地市場は東京都江東区の\n"
     ]
    }
   ],
   "source": [
    "# get_m_snippet_from_file関数による検索\n",
    "query = '東京都'\n",
    "file_list = ['irpb-files/data/ch01/%02d.txt' % x for x in range(1,5)]\n",
    "for f in file_list:\n",
    "    print(f,get_m_snippet_from_file(f,query))"
   ]
  },
  {
   "cell_type": "code",
   "execution_count": 9,
   "id": "99f38d34",
   "metadata": {},
   "outputs": [],
   "source": [
    "# get_words関数とget_words_from_file関数\n",
    "\n",
    "from janome.analyzer import Analyzer\n",
    "from janome.tokenfilter import ExtractAttributeFilter\n",
    "from janome.tokenfilter import POSKeepFilter\n",
    "from janome.tokenfilter import POSStopFilter\n",
    "\n",
    "def get_words(s):\n",
    "    a = Analyzer(token_filters=[POSStopFilter(['記号']),ExtractAttributeFilter('surface')])\n",
    "    return list(a.analyze(s))\n",
    "\n",
    "def get_words_from_file(f):\n",
    "    return get_words(get_string_from_file)\n"
   ]
  },
  {
   "cell_type": "code",
   "execution_count": null,
   "id": "3493bec4",
   "metadata": {},
   "outputs": [],
   "source": []
  }
 ],
 "metadata": {
  "kernelspec": {
   "display_name": "Python 3 (ipykernel)",
   "language": "python",
   "name": "python3"
  },
  "language_info": {
   "codemirror_mode": {
    "name": "ipython",
    "version": 3
   },
   "file_extension": ".py",
   "mimetype": "text/x-python",
   "name": "python",
   "nbconvert_exporter": "python",
   "pygments_lexer": "ipython3",
   "version": "3.9.7"
  }
 },
 "nbformat": 4,
 "nbformat_minor": 5
}
