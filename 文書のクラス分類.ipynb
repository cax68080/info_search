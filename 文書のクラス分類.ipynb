{
 "cells": [
  {
   "cell_type": "markdown",
   "id": "8a92c433",
   "metadata": {},
   "source": [
    "# Chapter 7 文書のクラス分類"
   ]
  },
  {
   "cell_type": "code",
   "execution_count": 1,
   "id": "066e9c93",
   "metadata": {},
   "outputs": [],
   "source": [
    "import common_func as cf"
   ]
  },
  {
   "cell_type": "markdown",
   "id": "e7bf9a42",
   "metadata": {},
   "source": [
    "## 7.1 機械学習の枠組み"
   ]
  },
  {
   "cell_type": "markdown",
   "id": "611aac3d",
   "metadata": {},
   "source": [
    "## 7.2 ナイーブベイズ"
   ]
  },
  {
   "cell_type": "code",
   "execution_count": 4,
   "id": "ebe02c46",
   "metadata": {},
   "outputs": [],
   "source": [
    "# 書籍紹介の文書ベクトルの作成\n",
    "from gensim import matutils\n",
    "\n",
    "# 書籍紹介文のデータから訓練データ用の文書ベクトルを作成する。\n",
    "# TF・IDFの計算は青空文庫のデータを使用\n",
    "book_texts = [cf.get_string_from_file('irpb-files/data/ch07/%d.txt' % i) for i in range(15)]\n",
    "tfidf_model,dic,vectors = cf.get_tfidfmodel_and_weights(book_texts)\n",
    "\n",
    "# denseな文書ベクトルに変換\n",
    "vectors = matutils.corpus2dense(vectors,len(dic)).T\n",
    "\n",
    "# 書籍のタイトル、クラス番号をそれぞれbook-titles.txtとclass.txtから読み込む\n",
    "titles = cf.get_list_from_file('irpb-files/data/ch07/book-titles.txt')\n",
    "classes = cf.get_list_from_file('irpb-files/data/ch07/class.txt')\n",
    "\n",
    "    "
   ]
  },
  {
   "cell_type": "code",
   "execution_count": 5,
   "id": "4d39c925",
   "metadata": {},
   "outputs": [
    {
     "name": "stdout",
     "output_type": "stream",
     "text": [
      "Pythonで実装: 3\n",
      "微分方程式を解く: 2\n",
      "規格に準拠: 1\n",
      "アナログからデジタルへ: 1\n",
      "人工知能: 3\n"
     ]
    }
   ],
   "source": [
    "# ナイーブベイズによる学習\n",
    "from sklearn.naive_bayes import MultinomialNB\n",
    "\n",
    "# 多項分布モデルの分類機を生成する\n",
    "mnb = MultinomialNB()\n",
    "\n",
    "# 分類機にデータと正解を与え学習させる\n",
    "mnb.fit(vectors,classes)\n",
    "\n",
    "# 分類対象のフレーズ\n",
    "test_texts = ['Pythonで実装','微分方程式を解く','規格に準拠','アナログからデジタルへ','人工知能']\n",
    "\n",
    "# フレーズの文書ベクトルを作成する\n",
    "test_bows = cf.get_bows(test_texts,dic)\n",
    "test_vectors = cf.get_weights(test_bows,dic,tfidf_model)\n",
    "test_vectors = matutils.corpus2dense(test_vectors,len(dic)).T\n",
    "\n",
    "# クラスを推定\n",
    "predicted_classes = mnb.predict(test_vectors)\n",
    "\n",
    "# フレーズと推定結果を並べて表示\n",
    "for i,j in zip(test_texts,predicted_classes):\n",
    "    print('{}: {}'.format(i,j))"
   ]
  },
  {
   "cell_type": "code",
   "execution_count": 18,
   "id": "1e5e6cd3",
   "metadata": {},
   "outputs": [],
   "source": [
    "#評価のためのデータを読み込む\n",
    "cv_texts = [cf.get_string_from_file('irpb-files/data/ch07/cv/%d.txt' % i) for i in range(90)]\n",
    "tfidf_models,dic,vectors = cf.get_tfidfmodel_and_weights(cv_texts)\n",
    "vectors = matutils.corpus2dense(vectors,len(dic)).T\n",
    "\n",
    "#書籍のクラスを読み込む\n",
    "classes = cf.get_list_from_file('irpb-files/data/ch07/cv/class.txt')"
   ]
  },
  {
   "cell_type": "code",
   "execution_count": 19,
   "id": "307df180",
   "metadata": {},
   "outputs": [
    {
     "name": "stdout",
     "output_type": "stream",
     "text": [
      "Test 1/3:\t0.4667\n",
      "Test 2/3:\t0.5333\n",
      "Test 3/3:\t0.5667\n",
      "Average:\t0.5222\n"
     ]
    }
   ],
   "source": [
    "# ナイーブベイズの性能評価\n",
    "from sklearn.model_selection import cross_val_score\n",
    "from sklearn.model_selection import StratifiedKFold\n",
    "from sklearn.naive_bayes import MultinomialNB\n",
    "\n",
    "# 分割数が３の層化Ｋ分割交差検証のオブジェクトを生成する。\n",
    "K = 3\n",
    "skf = StratifiedKFold(n_splits=K)\n",
    "\n",
    "# 分類器にはナイーブベイズを使用する。\n",
    "classifier = MultinomialNB()\n",
    "\n",
    "# 交差検証を実行\n",
    "scores = cross_val_score(classifier,vectors,classes,cv=skf)\n",
    "\n",
    "# 各回のスコアと平均を表示する\n",
    "for i in range(K):\n",
    "    print('Test %d/%d:\\t%.4f' % (i+1,K,scores [i]))\n",
    "print('Average:\\t%.4f' % (sum(scores)/K))"
   ]
  },
  {
   "cell_type": "code",
   "execution_count": 20,
   "id": "630c3bf3",
   "metadata": {},
   "outputs": [
    {
     "name": "stdout",
     "output_type": "stream",
     "text": [
      "Test 1/3:\t0.6333\n",
      "Test 2/3:\t0.6333\n",
      "Test 3/3:\t0.6333\n",
      "Average:\t0.6333\n"
     ]
    }
   ],
   "source": [
    "# サポートベクトルマシンの性能評価\n",
    "from sklearn import svm\n",
    "\n",
    "K = 3\n",
    "skf = StratifiedKFold(n_splits=K)\n",
    "\n",
    "# 分類器にサポートベクトルマシンを使用する\n",
    "classifier = svm.SVC(kernel='rbf',C=1,gamma=1)\n",
    "\n",
    "# 交差検証を実行\n",
    "scores = cross_val_score(classifier,vectors,classes,cv=skf)\n",
    "\n",
    "# 結果の表示\n",
    "for i in range(K):\n",
    "    print('Test %d/%d:\\t%.4f' % (i+1,K,scores[i]))\n",
    "print('Average:\\t%.4f' % (sum(scores) / K))"
   ]
  },
  {
   "cell_type": "code",
   "execution_count": 21,
   "id": "6c508375",
   "metadata": {},
   "outputs": [
    {
     "name": "stdout",
     "output_type": "stream",
     "text": [
      " 9\t 2\t 0\t 3\t 1\t 0\t 経営工学\n",
      " 5\t 3\t 0\t 3\t 4\t 0\t 土木\n",
      " 0\t 1\t13\t 1\t 0\t 0\t 建築\n",
      " 2\t 0\t 0\t12\t 1\t 0\t 機械\n",
      " 1\t 2\t 1\t 1\t10\t 0\t 電気\n",
      " 0\t 2\t 0\t 3\t 0\t10\t 情報\n"
     ]
    }
   ],
   "source": [
    "# 混同行列の計算\n",
    "from sklearn.model_selection import cross_val_predict\n",
    "from sklearn.metrics import confusion_matrix\n",
    "\n",
    "classifier = svm.SVC(kernel='rbf',C=1,gamma=1)\n",
    "\n",
    "# 交差検証を行い、分類結果を取得する。\n",
    "prediction = cross_val_predict(classifier,vectors,classes,cv=skf)\n",
    "\n",
    "# 分類結果から混同行列を生成\n",
    "cm = confusion_matrix(classes,prediction)\n",
    "\n",
    "# classesの重複を取り除いてクラス名のリストを作成する\n",
    "class_names = [j for i,j in enumerate(classes) if not j in classes[:i]]\n",
    "\n",
    "# '%2d\\t' + タブが６個(クラスの数)並んだ書式の作成\n",
    "fmt = '%2d\\t' * 6\n",
    "\n",
    "# 混同行列の各行とクラス名を並べて表示する\n",
    "for i,j in enumerate(cm):\n",
    "    print(fmt % tuple(j),class_names[i])\n",
    "    "
   ]
  },
  {
   "cell_type": "code",
   "execution_count": 22,
   "id": "2aa990a6",
   "metadata": {},
   "outputs": [
    {
     "name": "stdout",
     "output_type": "stream",
     "text": [
      "{'C': 1, 'gamma': 1, 'kernel': 'rbf'}\n"
     ]
    }
   ],
   "source": [
    "# グリッドサーチによるパラメータの選出\n",
    "\n",
    "from sklearn.model_selection import GridSearchCV\n",
    "\n",
    "# パラメータの選択肢\n",
    "params = {\n",
    "    'kernel': ['rbf'],\n",
    "    'C':[0.1,1,10,100],\n",
    "    'gamma':[0.1,1,10,100]\n",
    "}\n",
    "\n",
    "classifier = svm.SVC()\n",
    "\n",
    "# グリッドサーチを行う。分割数３の交差検証で評価する。\n",
    "gs = GridSearchCV(classifier,params,cv=3)\n",
    "gs.fit(vectors,classes)\n",
    "\n",
    "# 最もよい性能を与えるものを出力する\n",
    "print(gs.best_params_)"
   ]
  },
  {
   "cell_type": "code",
   "execution_count": null,
   "id": "3a75d5b4",
   "metadata": {},
   "outputs": [],
   "source": []
  }
 ],
 "metadata": {
  "kernelspec": {
   "display_name": "Python 3 (ipykernel)",
   "language": "python",
   "name": "python3"
  },
  "language_info": {
   "codemirror_mode": {
    "name": "ipython",
    "version": 3
   },
   "file_extension": ".py",
   "mimetype": "text/x-python",
   "name": "python",
   "nbconvert_exporter": "python",
   "pygments_lexer": "ipython3",
   "version": "3.9.7"
  }
 },
 "nbformat": 4,
 "nbformat_minor": 5
}
