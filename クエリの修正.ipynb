{
 "cells": [
  {
   "cell_type": "markdown",
   "id": "d39b9153",
   "metadata": {},
   "source": [
    "# Chapter 8 クエリの修正"
   ]
  },
  {
   "cell_type": "code",
   "execution_count": 1,
   "id": "89c42e84",
   "metadata": {},
   "outputs": [],
   "source": [
    "import common_func as cf"
   ]
  },
  {
   "cell_type": "markdown",
   "id": "f81314cd",
   "metadata": {},
   "source": [
    "## 8.1 適合性フィードバック"
   ]
  },
  {
   "cell_type": "code",
   "execution_count": 4,
   "id": "8e8d9fc8",
   "metadata": {},
   "outputs": [
    {
     "name": "stdout",
     "output_type": "stream",
     "text": [
      "[(11, '都市環境から考えるこれからのまちづくり'),\n",
      " (6, '植物と微気象'),\n",
      " (7, '生態系生態学'),\n",
      " (10, '都市景観の環境デザイン'),\n",
      " (2, '地球と都市の温暖化'),\n",
      " (5, '森林水文学'),\n",
      " (0, 'これからの強化学習'),\n",
      " (1, 'ブラックホールと時空の方程式'),\n",
      " (3, '基礎からわかる高分子材料'),\n",
      " (4, '定理のつくりかた'),\n",
      " (8, '逆数学'),\n",
      " (9, '通信ネットワーク概論')]\n"
     ]
    }
   ],
   "source": [
    "# vsm_searchによる「環境」をクエリとする検索\n",
    "from pprint import pprint\n",
    "\n",
    "# 書籍の紹介文、タイトルの読み込み(再掲)\n",
    "texts = [cf.get_string_from_file('./irpb-files/data/ch08/%d.txt' % i) for i in range(12)]\n",
    "titles = cf.get_list_from_file('./irpb-files/data/ch08/book-titles.txt')\n",
    "\n",
    "# vsm_searchにより「環境」で検索した結果をランキング\n",
    "r = cf.vsm_search(texts,'環境')\n",
    "\n",
    "# ランキング順に文書番号とタイトルを表示する\n",
    "pprint([(i,titles[i]) for i, _ in r])"
   ]
  },
  {
   "cell_type": "code",
   "execution_count": 12,
   "id": "ef525d6a",
   "metadata": {},
   "outputs": [],
   "source": [
    "# weightで重みづけしたvecの値をdicに加算する\n",
    "# たとえば、vec=[(id1,val1)]なら、dic[id1] += weight*val1\n",
    "def add_weights(dic,vec,weight=1.0):\n",
    "    for (id,val) in vec:\n",
    "        if not id in vec:\n",
    "            dic[id] = 0\n",
    "        dic[id] += weight * val\n",
    "        \n",
    "def Rocchio(query_vec,R_plus_vecs,R_minus_vecs,alpha=1.0,beta=0.75,gamma=0.15):\n",
    "    # query_vec = [(id1,val1),(id2,val2),...] から\n",
    "    # {id1:alpha * val1,id2:alpha * val2,...}を計算(式(8.1)の第1項)\n",
    "    q = {id : alpha * val for (id,val) in query_vec}\n",
    "    \n",
    "    # 適合文書の文書ベクトルをqに反映させる(式(8.1)の第2項)\n",
    "    n = len(R_plus_vecs)\n",
    "    if n > 0:\n",
    "        w = beta / n\n",
    "        # R_plus_vecsの要素にwをかけて加算する\n",
    "        for v in R_plus_vecs:\n",
    "            add_weights(q,v,weight=w)\n",
    "    \n",
    "    # 不適合文書の文書ベクトルをqに反映させる(式(8.1)の第3項)\n",
    "    n = len(R_minus_vecs)\n",
    "    if n > 0:\n",
    "        w = -gamma / n\n",
    "        for v in R_minus_vecs:\n",
    "            add_weights(q,v,weight=w)\n",
    "            \n",
    "    # 辞書型のデータをbag-of-wordsフォーマットに変換\n",
    "    return list(q.items())"
   ]
  },
  {
   "cell_type": "code",
   "execution_count": 13,
   "id": "d8dad125",
   "metadata": {},
   "outputs": [],
   "source": [
    "# vsm_search_with_feedback関数\n",
    "# 適合文書のidリストをR_plusに、不適応文書のidリストをR_minusに指定する\n",
    "from gensim.similarities import MatrixSimilarity\n",
    "\n",
    "def vsm_search_with_feedback(texts,query,R_plus,R_minus):\n",
    "    tfidf_model,dic,text_weights = cf.get_tfidfmodel_and_weights(texts)\n",
    "    \n",
    "    index = MatrixSimilarity(text_weights,num_features=len(dic))\n",
    "    query_bows = cf.get_bows([query],dic)\n",
    "    query_weights = cf.get_weights(query_bows,dic,tfidf_model)\n",
    "    \n",
    "    # 適合／不適合文書のベクトルのリストを生成する\n",
    "    R_plus_vecs = [text_weights[i] for i in R_plus]\n",
    "    R_minus_vecs = [text_weights[i] for i in R_minus]\n",
    "    \n",
    "    # Rocchioのアルゴリズムでクエリのベクトルquery_weights[0]を修正する\n",
    "    feedback_query = Rocchio(query_weights[0],R_plus_vecs,R_minus_vecs)\n",
    "    \n",
    "    # 修正したクエリと類似度を計算\n",
    "    sims = index[feedback_query]\n",
    "    \n",
    "    return sorted(enumerate(sims),key=lambda x:x[1],reverse=True)\n",
    "    "
   ]
  },
  {
   "cell_type": "code",
   "execution_count": 14,
   "id": "af7e7187",
   "metadata": {},
   "outputs": [
    {
     "name": "stdout",
     "output_type": "stream",
     "text": [
      "[(6, '植物と微気象'),\n",
      " (7, '生態系生態学'),\n",
      " (1, 'ブラックホールと時空の方程式'),\n",
      " (4, '定理のつくりかた'),\n",
      " (5, '森林水文学'),\n",
      " (3, '基礎からわかる高分子材料'),\n",
      " (8, '逆数学'),\n",
      " (0, 'これからの強化学習'),\n",
      " (9, '通信ネットワーク概論'),\n",
      " (2, '地球と都市の温暖化'),\n",
      " (10, '都市景観の環境デザイン'),\n",
      " (11, '都市環境から考えるこれからのまちづくり')]\n"
     ]
    }
   ],
   "source": [
    "# id=6を適合、id=11を不適合な文書に指定し、適合性フィードバックを行う\n",
    "r = vsm_search_with_feedback(texts,'環境',[6],[11])\n",
    "pprint([(i,titles[i]) for i,_ in r])"
   ]
  },
  {
   "cell_type": "markdown",
   "id": "af5e3479",
   "metadata": {},
   "source": [
    "## 8.2 クエリ拡張"
   ]
  },
  {
   "cell_type": "code",
   "execution_count": null,
   "id": "59309caa",
   "metadata": {},
   "outputs": [],
   "source": []
  }
 ],
 "metadata": {
  "kernelspec": {
   "display_name": "Python 3 (ipykernel)",
   "language": "python",
   "name": "python3"
  },
  "language_info": {
   "codemirror_mode": {
    "name": "ipython",
    "version": 3
   },
   "file_extension": ".py",
   "mimetype": "text/x-python",
   "name": "python",
   "nbconvert_exporter": "python",
   "pygments_lexer": "ipython3",
   "version": "3.9.7"
  }
 },
 "nbformat": 4,
 "nbformat_minor": 5
}
