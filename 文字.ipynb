{
 "cells": [
  {
   "cell_type": "markdown",
   "id": "dbf23d60",
   "metadata": {},
   "source": [
    "# Chapter 1 文字"
   ]
  },
  {
   "cell_type": "markdown",
   "id": "22350e73",
   "metadata": {},
   "source": [
    "## 1.1 文字コード"
   ]
  },
  {
   "cell_type": "code",
   "execution_count": 1,
   "id": "d9e5ea7b",
   "metadata": {},
   "outputs": [
    {
     "name": "stdout",
     "output_type": "stream",
     "text": [
      "True\n",
      "False\n"
     ]
    }
   ],
   "source": [
    "# in演算子の使用例\n",
    "query = '京都'\n",
    "s1 = '清水寺は京都にある'\n",
    "s2 = '浅草寺は東京にある'\n",
    "print(query in s1)\n",
    "print(query in s2)\n"
   ]
  },
  {
   "cell_type": "code",
   "execution_count": 20,
   "id": "7ecb1862",
   "metadata": {},
   "outputs": [],
   "source": [
    "# クエリの出現を調べるcheck_query関数(改良版)\n",
    "def check_encoding_and_query(filename,query):\n",
    "    s = get_string_from_file(filename)\n",
    "    return query in s"
   ]
  },
  {
   "cell_type": "code",
   "execution_count": 23,
   "id": "5e7fd533",
   "metadata": {},
   "outputs": [
    {
     "name": "stdout",
     "output_type": "stream",
     "text": [
      "True\n",
      "False\n"
     ]
    }
   ],
   "source": [
    "# check_query関数使用例\n",
    "print( check_encoding_and_query('irpb-files/data/ch01/01.txt','京都'))\n",
    "print( check_encoding_and_query('irpb-files/data/ch01/01.txt','東京'))"
   ]
  },
  {
   "cell_type": "code",
   "execution_count": 24,
   "id": "4499850b",
   "metadata": {},
   "outputs": [
    {
     "name": "stdout",
     "output_type": "stream",
     "text": [
      "京都 in irpb-files/data/ch01/01.txt...True\n",
      "京都 in irpb-files/data/ch01/02.txt...False\n",
      "京都 in irpb-files/data/ch01/03.txt...True\n",
      "京都 in irpb-files/data/ch01/04.txt...True\n"
     ]
    }
   ],
   "source": [
    "# 複数ファイルを対象とした文字列検索\n",
    "query = '京都'\n",
    "file_list = ['irpb-files/data/ch01/%02d.txt' % x for x in range(1,5)]\n",
    "for f in file_list:\n",
    "    r =  check_encoding_and_query(f,query)\n",
    "    print('{} in {}...{}'.format(query,f,r))"
   ]
  },
  {
   "cell_type": "code",
   "execution_count": 15,
   "id": "8e88936a",
   "metadata": {},
   "outputs": [
    {
     "name": "stdout",
     "output_type": "stream",
     "text": [
      "[97]\n",
      "[97, 98, 99]\n",
      "[227, 129, 132]\n"
     ]
    }
   ],
   "source": [
    "# 文字コードの例\n",
    "print(list('a'.encode()))\n",
    "print(list('abc'.encode()))\n",
    "print(list('い'.encode()))"
   ]
  },
  {
   "cell_type": "code",
   "execution_count": 18,
   "id": "37e5e3fb",
   "metadata": {},
   "outputs": [
    {
     "name": "stdout",
     "output_type": "stream",
     "text": [
      "{'encoding': 'utf-8', 'confidence': 0.99, 'language': ''}\n",
      "{'encoding': 'Windows-1252', 'confidence': 0.73, 'language': ''}\n"
     ]
    }
   ],
   "source": [
    "# chardetの使用例\n",
    "import chardet\n",
    "\n",
    "print(chardet.detect('明日、京都に行きます。'.encode('UTF-8')))\n",
    "print(chardet.detect('明'.encode('UTF-8')))\n"
   ]
  },
  {
   "cell_type": "code",
   "execution_count": 19,
   "id": "6387159d",
   "metadata": {},
   "outputs": [],
   "source": [
    "# エンコーディングに応じて適切に読み込むget_string_from_file関数\n",
    "import chardet\n",
    "\n",
    "def get_string_from_file(filename):\n",
    "    with open(filename,'rb') as f:\n",
    "        d = f.read()\n",
    "        e = chardet.detect(d)['encoding']\n",
    "        # 推定できなかったときはUTF-8で\n",
    "        if e == None:\n",
    "            e = 'UTF-8'\n",
    "        return d.decode(e)"
   ]
  },
  {
   "cell_type": "code",
   "execution_count": null,
   "id": "bd1b8721",
   "metadata": {},
   "outputs": [],
   "source": []
  }
 ],
 "metadata": {
  "kernelspec": {
   "display_name": "Python 3 (ipykernel)",
   "language": "python",
   "name": "python3"
  },
  "language_info": {
   "codemirror_mode": {
    "name": "ipython",
    "version": 3
   },
   "file_extension": ".py",
   "mimetype": "text/x-python",
   "name": "python",
   "nbconvert_exporter": "python",
   "pygments_lexer": "ipython3",
   "version": "3.9.7"
  }
 },
 "nbformat": 4,
 "nbformat_minor": 5
}
