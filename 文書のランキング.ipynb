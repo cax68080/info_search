{
 "cells": [
  {
   "cell_type": "markdown",
   "id": "b07d8458",
   "metadata": {},
   "source": [
    "# Chapter 4 文書のランキング"
   ]
  },
  {
   "cell_type": "code",
   "execution_count": 1,
   "id": "15c844ca",
   "metadata": {},
   "outputs": [],
   "source": [
    "import ch01_func as c1\n",
    "import ch02_func as c2\n",
    "import ch03_func as c3"
   ]
  },
  {
   "cell_type": "markdown",
   "id": "2ceef9ce",
   "metadata": {},
   "source": [
    "## 4.1 特徴語集合の類似性"
   ]
  },
  {
   "cell_type": "code",
   "execution_count": null,
   "id": "d52155d8",
   "metadata": {},
   "outputs": [],
   "source": [
    "# jaccard関数\n",
    "# X,Yはiterative\n",
    "def "
   ]
  }
 ],
 "metadata": {
  "kernelspec": {
   "display_name": "Python 3 (ipykernel)",
   "language": "python",
   "name": "python3"
  },
  "language_info": {
   "codemirror_mode": {
    "name": "ipython",
    "version": 3
   },
   "file_extension": ".py",
   "mimetype": "text/x-python",
   "name": "python",
   "nbconvert_exporter": "python",
   "pygments_lexer": "ipython3",
   "version": "3.9.7"
  }
 },
 "nbformat": 4,
 "nbformat_minor": 5
}
