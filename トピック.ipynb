{
 "cells": [
  {
   "cell_type": "markdown",
   "id": "5cbfea27",
   "metadata": {},
   "source": [
    "# Chapter 9 トピック"
   ]
  },
  {
   "cell_type": "code",
   "execution_count": 1,
   "id": "2a31f1ca",
   "metadata": {},
   "outputs": [],
   "source": [
    "import common_func as cf"
   ]
  },
  {
   "cell_type": "markdown",
   "id": "720ff9a4",
   "metadata": {},
   "source": [
    "## 9.1 潜在的意味インデキシング"
   ]
  },
  {
   "cell_type": "code",
   "execution_count": 3,
   "id": "ee3fe53e",
   "metadata": {
    "collapsed": true
   },
   "outputs": [
    {
     "name": "stdout",
     "output_type": "stream",
     "text": [
      "['パームアイランドはドバイの沖合に造られた人工島群で，ヤシの木をモチーフにデザインされています．この人工島には大型商業施設やホテル，別荘やなどが建てられています．\\r\\n', 'マービン・ミンスキーは，人工知能という分野の黎明期に活躍した研究者で，「人工知能の父」と呼ばれています．\\r\\n', 'イヌには，嘘をついたり，その場を取り繕うという行動が見られるという研究報告があります．これは，イヌの知能が高いことの証拠であると言われています．この他にも，イヌには推理能力があるといわれています．\\r\\n', '会話ボットと呼ばれる，Twitterなどで勝手につぶやいたり話しかけに対して適当に返事をするプログラムや，Siriなどの音声アシスタントもAIの一例であると考えられています．\\r\\n', '一般相対性理論により存在が予想されていたが，これまで目で見える形で確認することができなかったブラックホールを，地球規模の電波望遠鏡を使って撮影することに成功しました．\\r\\n', 'マッカーシーが1958年に人工知能の研究のために開発したLISPというプログラミング言語は，今では，お掃除ロボットのRoombaに使われています．\\r\\n', '「ニャンサムウェア」とは，感染するとファイルが暗号化されコンピュータが使用できなくなる「ランサムウェア」を捩ったもので，猫によるPCの作業妨害をいいます．\\r\\n', '新しい元号の「令和」の出典は，万葉集の「初春の令月にして，気淑よく風和やわらぎ，梅は鏡前の粉を披き，蘭は珮後の香を薫らす」であるとされています．\\r\\n', '人間の仕事の多くが人工知能に奪われてしまうという予測がある．実際，コールセンターに人工知能を導入した結果，人員が大幅に削減されたという事例がある．\\r\\n\\r\\n', 'ディープラーニングは脳の神経細胞ネットワークを模した機械学習の手法で，ネットワークを多層に構成にすることでデータの特徴をより深く学習させることができます．\\r\\n']\n"
     ]
    }
   ],
   "source": [
    "# data/ch05にある各文書から文書ベクトルを作成する\n",
    "book_texts = [cf.get_string_from_file('irpb-files/data/ch05/%d.txt' % i) for i in range(10)]\n",
    "tfidf_model,dic,tfidf_weights = cf.get_tfidfmodel_and_weights(book_texts)\n"
   ]
  },
  {
   "cell_type": "code",
   "execution_count": 6,
   "id": "96ffc3f9",
   "metadata": {},
   "outputs": [],
   "source": [
    "# LSIモデルの作成\n",
    "from gensim.models import LsiModel\n",
    "\n",
    "# トピックの数\n",
    "num_topics = 5\n",
    "\n",
    "# モデルの作成\n",
    "lsi_model = LsiModel(corpus=tfidf_weights,id2word=dic,num_topics=num_topics)"
   ]
  },
  {
   "cell_type": "code",
   "execution_count": 7,
   "id": "b1b2e482",
   "metadata": {},
   "outputs": [
    {
     "name": "stdout",
     "output_type": "stream",
     "text": [
      "0.624*\"知能\" + 0.484*\"人工\" + 0.204*\"マービン・ミンスキー\"\n"
     ]
    }
   ],
   "source": [
    "# トピックの特徴語の表示\n",
    "print(lsi_model.print_topic(0,3))"
   ]
  },
  {
   "cell_type": "code",
   "execution_count": 11,
   "id": "42cd3a1c",
   "metadata": {},
   "outputs": [],
   "source": [
    "#lsi_search関数\n",
    "def lsi_search(texts,query,num_topics):\n",
    "    \n",
    "    from gensim.similarities import MatrixSimilarity\n",
    "    \n",
    "    # tfidfに基づいて語の重みを計算する\n",
    "    tfidf_model,dic,text_tfidf_weights = cf.get_tfidfmodel_and_weights(texts)\n",
    "    \n",
    "    # LSIモデルを作成し、トピックの重みを計算する\n",
    "    lsi_model = LsiModel(corpus=text_tfidf_weights,id2word=dic,num_topics=num_topics)\n",
    "    lsi_weights = lsi_model[text_tfidf_weights]\n",
    "    index = MatrixSimilarity(lsi_weights,num_features=len(dic))\n",
    "    \n",
    "    # queryのbag-of-wordsを作成し、重みを計算する\n",
    "    query_bows = cf.get_bows([query],dic)\n",
    "    query_tfidf_weights = cf.get_weights(query_bows,dic,tfidf_model)\n",
    "    query_lsi_weights = lsi_model[query_tfidf_weights]\n",
    "    \n",
    "    # 類似度計算\n",
    "    sims = index[query_lsi_weights[0]]\n",
    "    \n",
    "    # 類似度で降順にソートする\n",
    "    return sorted(enumerate(sims),key=lambda x: x[1],reverse=True)"
   ]
  },
  {
   "cell_type": "code",
   "execution_count": 17,
   "id": "2bf094e5",
   "metadata": {},
   "outputs": [
    {
     "name": "stdout",
     "output_type": "stream",
     "text": [
      "[(1, 0.7481151),\n",
      " (8, 0.6076249),\n",
      " (5, 0.31722325),\n",
      " (0, 0.21160641),\n",
      " (2, 0.18004589),\n",
      " (3, 0.0),\n",
      " (4, 0.0),\n",
      " (6, 0.0),\n",
      " (7, 0.0),\n",
      " (9, 0.0)]\n"
     ]
    }
   ],
   "source": [
    "# vsm_searchによる検索(再掲)\n",
    "from pprint import pprint\n",
    "\n",
    "query = '人工知能'\n",
    "\n",
    "# tfidfモデルに基づく検索(リスト5.2と同じ)\n",
    "# 検索結果は関連殿高さで順位付けされている\n",
    "tfidf_result = cf.vsm_search(book_texts,query)\n",
    "\n",
    "# 文書番号と関連度の組を出力する\n",
    "pprint(tfidf_result)"
   ]
  },
  {
   "cell_type": "code",
   "execution_count": 18,
   "id": "cd41e67a",
   "metadata": {},
   "outputs": [
    {
     "name": "stdout",
     "output_type": "stream",
     "text": [
      "[(8, 0.99998426),\n",
      " (1, 0.99996907),\n",
      " (5, 0.9991018),\n",
      " (0, 0.5014957),\n",
      " (2, 0.40058395),\n",
      " (9, 0.0017561095),\n",
      " (3, 0.0),\n",
      " (6, 0.0),\n",
      " (7, 0.0),\n",
      " (4, -0.0029632207)]\n"
     ]
    }
   ],
   "source": [
    "# lsi_searchによる検索\n",
    "num_topics = 5\n",
    "\n",
    "query = '人工知能'\n",
    "\n",
    "lsi_result = lsi_search(book_texts,query,num_topics)\n",
    "pprint(lsi_result)"
   ]
  },
  {
   "cell_type": "code",
   "execution_count": 19,
   "id": "a93f6198",
   "metadata": {},
   "outputs": [
    {
     "name": "stdout",
     "output_type": "stream",
     "text": [
      "TFIDF: 0.8211\n",
      "LSI:   0.8648\n"
     ]
    }
   ],
   "source": [
    "# TF/IDFとLSIの検索性能比較\n",
    "\n",
    "# '人工知能'をクエリとする検索の正解\n",
    "right_answer = [0,1,0,1,0,1,0,0,1,1]\n",
    "\n",
    "# ランキングの計算\n",
    "tfidf_ranking = [x[0] for x in tfidf_result]\n",
    "lsi_ranking = [x[0] for x in lsi_result]\n",
    "\n",
    "# 平均適合率による検索性能評価の比較\n",
    "print('TFIDF: %.4f' % cf.get_average_precision(tfidf_ranking,right_answer))\n",
    "print('LSI:   %.4f' % cf.get_average_precision(lsi_ranking,right_answer))"
   ]
  },
  {
   "cell_type": "code",
   "execution_count": null,
   "id": "2b15b639",
   "metadata": {},
   "outputs": [],
   "source": []
  }
 ],
 "metadata": {
  "kernelspec": {
   "display_name": "Python 3 (ipykernel)",
   "language": "python",
   "name": "python3"
  },
  "language_info": {
   "codemirror_mode": {
    "name": "ipython",
    "version": 3
   },
   "file_extension": ".py",
   "mimetype": "text/x-python",
   "name": "python",
   "nbconvert_exporter": "python",
   "pygments_lexer": "ipython3",
   "version": "3.9.7"
  }
 },
 "nbformat": 4,
 "nbformat_minor": 5
}
