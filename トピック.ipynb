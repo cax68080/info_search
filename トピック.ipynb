{
 "cells": [
  {
   "cell_type": "markdown",
   "id": "5cbfea27",
   "metadata": {},
   "source": [
    "# Chapter 9 トピック"
   ]
  },
  {
   "cell_type": "code",
   "execution_count": 1,
   "id": "2a31f1ca",
   "metadata": {},
   "outputs": [],
   "source": [
    "import common_func as cf"
   ]
  },
  {
   "cell_type": "markdown",
   "id": "720ff9a4",
   "metadata": {},
   "source": [
    "## 9.1 潜在的意味インデキシング"
   ]
  },
  {
   "cell_type": "code",
   "execution_count": 2,
   "id": "ee3fe53e",
   "metadata": {},
   "outputs": [],
   "source": [
    "# data/ch05にある各文書から文書ベクトルを作成する\n",
    "book_texts = [cf.get_string_from_file('irpb-files/data/ch05/%d.txt' % i) for i in range(10)]\n",
    "tfidf_model,dic,tfidf_weights = cf.get_tfidfmodel_and_weights(book_texts)\n"
   ]
  },
  {
   "cell_type": "code",
   "execution_count": 3,
   "id": "96ffc3f9",
   "metadata": {},
   "outputs": [],
   "source": [
    "# LSIモデルの作成\n",
    "from gensim.models import LsiModel\n",
    "\n",
    "# トピックの数\n",
    "num_topics = 5\n",
    "\n",
    "# モデルの作成\n",
    "lsi_model = LsiModel(corpus=tfidf_weights,id2word=dic,num_topics=num_topics)"
   ]
  },
  {
   "cell_type": "code",
   "execution_count": 7,
   "id": "b1b2e482",
   "metadata": {},
   "outputs": [
    {
     "name": "stdout",
     "output_type": "stream",
     "text": [
      "0.624*\"知能\" + 0.484*\"人工\" + 0.204*\"マービン・ミンスキー\"\n"
     ]
    }
   ],
   "source": [
    "# トピックの特徴語の表示\n",
    "print(lsi_model.print_topic(0,3))"
   ]
  },
  {
   "cell_type": "code",
   "execution_count": 4,
   "id": "42cd3a1c",
   "metadata": {},
   "outputs": [],
   "source": [
    "#lsi_search関数\n",
    "def lsi_search(texts,query,num_topics):\n",
    "    \n",
    "    from gensim.similarities import MatrixSimilarity\n",
    "    \n",
    "    # tfidfに基づいて語の重みを計算する\n",
    "    tfidf_model,dic,text_tfidf_weights = cf.get_tfidfmodel_and_weights(texts)\n",
    "    \n",
    "    # LSIモデルを作成し、トピックの重みを計算する\n",
    "    lsi_model = LsiModel(corpus=text_tfidf_weights,id2word=dic,num_topics=num_topics)\n",
    "    lsi_weights = lsi_model[text_tfidf_weights]\n",
    "    index = MatrixSimilarity(lsi_weights,num_features=len(dic))\n",
    "    \n",
    "    # queryのbag-of-wordsを作成し、重みを計算する\n",
    "    query_bows = cf.get_bows([query],dic)\n",
    "    query_tfidf_weights = cf.get_weights(query_bows,dic,tfidf_model)\n",
    "    query_lsi_weights = lsi_model[query_tfidf_weights]\n",
    "    \n",
    "    # 類似度計算\n",
    "    sims = index[query_lsi_weights[0]]\n",
    "    \n",
    "    # 類似度で降順にソートする\n",
    "    return sorted(enumerate(sims),key=lambda x: x[1],reverse=True)"
   ]
  },
  {
   "cell_type": "code",
   "execution_count": 17,
   "id": "2bf094e5",
   "metadata": {},
   "outputs": [
    {
     "name": "stdout",
     "output_type": "stream",
     "text": [
      "[(1, 0.7481151),\n",
      " (8, 0.6076249),\n",
      " (5, 0.31722325),\n",
      " (0, 0.21160641),\n",
      " (2, 0.18004589),\n",
      " (3, 0.0),\n",
      " (4, 0.0),\n",
      " (6, 0.0),\n",
      " (7, 0.0),\n",
      " (9, 0.0)]\n"
     ]
    }
   ],
   "source": [
    "# vsm_searchによる検索(再掲)\n",
    "from pprint import pprint\n",
    "\n",
    "query = '人工知能'\n",
    "\n",
    "# tfidfモデルに基づく検索(リスト5.2と同じ)\n",
    "# 検索結果は関連殿高さで順位付けされている\n",
    "tfidf_result = cf.vsm_search(book_texts,query)\n",
    "\n",
    "# 文書番号と関連度の組を出力する\n",
    "pprint(tfidf_result)"
   ]
  },
  {
   "cell_type": "code",
   "execution_count": 18,
   "id": "cd41e67a",
   "metadata": {},
   "outputs": [
    {
     "name": "stdout",
     "output_type": "stream",
     "text": [
      "[(8, 0.99998426),\n",
      " (1, 0.99996907),\n",
      " (5, 0.9991018),\n",
      " (0, 0.5014957),\n",
      " (2, 0.40058395),\n",
      " (9, 0.0017561095),\n",
      " (3, 0.0),\n",
      " (6, 0.0),\n",
      " (7, 0.0),\n",
      " (4, -0.0029632207)]\n"
     ]
    }
   ],
   "source": [
    "# lsi_searchによる検索\n",
    "num_topics = 5\n",
    "\n",
    "query = '人工知能'\n",
    "\n",
    "lsi_result = lsi_search(book_texts,query,num_topics)\n",
    "pprint(lsi_result)"
   ]
  },
  {
   "cell_type": "code",
   "execution_count": 19,
   "id": "a93f6198",
   "metadata": {},
   "outputs": [
    {
     "name": "stdout",
     "output_type": "stream",
     "text": [
      "TFIDF: 0.8211\n",
      "LSI:   0.8648\n"
     ]
    }
   ],
   "source": [
    "# TF/IDFとLSIの検索性能比較\n",
    "\n",
    "# '人工知能'をクエリとする検索の正解\n",
    "right_answer = [0,1,0,1,0,1,0,0,1,1]\n",
    "\n",
    "# ランキングの計算\n",
    "tfidf_ranking = [x[0] for x in tfidf_result]\n",
    "lsi_ranking = [x[0] for x in lsi_result]\n",
    "\n",
    "# 平均適合率による検索性能評価の比較\n",
    "print('TFIDF: %.4f' % cf.get_average_precision(tfidf_ranking,right_answer))\n",
    "print('LSI:   %.4f' % cf.get_average_precision(lsi_ranking,right_answer))"
   ]
  },
  {
   "cell_type": "markdown",
   "id": "5190ce67",
   "metadata": {},
   "source": [
    "## 9.2 非負値行列因子分解"
   ]
  },
  {
   "cell_type": "code",
   "execution_count": 6,
   "id": "d80a5447",
   "metadata": {},
   "outputs": [],
   "source": [
    "# nmf_search関数\n",
    "from gensim.models.nmf import Nmf\n",
    "from gensim.similarities import MatrixSimilarity\n",
    "\n",
    "def nmf_search(texts,query,num_topics,passes=20,random_state=None):\n",
    "    tfidf_model,dic,text_tfidf_weights = cf.get_tfidfmodel_and_weights(texts)\n",
    "    \n",
    "    # NMFモデルを作成\n",
    "    nmf_model = Nmf(corpus=text_tfidf_weights,id2word=dic,num_topics=num_topics,passes=passes,random_state=random_state)\n",
    "    \n",
    "    # TF/IDFによる文書ベクトルをトピックベースのベクトルに変換\n",
    "    nmf_weights = nmf_model[text_tfidf_weights]\n",
    "    \n",
    "    index = MatrixSimilarity(nmf_weights,num_features=len(dic))\n",
    "    \n",
    "    query_bows = cf.get_bows([query],dic)\n",
    "    query_tfidf_weights = cf.get_weights(query_bows,dic,tfidf_model)\n",
    "    query_nmf_weights = nmf_model[query_tfidf_weights]\n",
    "    \n",
    "    sims = index[query_nmf_weights[0]]\n",
    "    return sorted(enumerate(sims),key=lambda x: x[1],reverse=True)"
   ]
  },
  {
   "cell_type": "code",
   "execution_count": 10,
   "id": "0dfd2517",
   "metadata": {},
   "outputs": [
    {
     "name": "stdout",
     "output_type": "stream",
     "text": [
      "[(5, 0.9901341),\n",
      " (1, 0.9872562),\n",
      " (8, 0.96037483),\n",
      " (9, 0.74584293),\n",
      " (0, 0.13932848),\n",
      " (7, 0.13932848),\n",
      " (2, 0.07689431),\n",
      " (4, 0.008907776),\n",
      " (6, 0.0014151302),\n",
      " (3, 0.0)]\n",
      "0.8944\n"
     ]
    }
   ],
   "source": [
    "# nmf_searchによる検索\n",
    "# トピック数を５に設定\n",
    "from pprint import pprint\n",
    "\n",
    "num_topics = 5\n",
    "query = '人工知能'\n",
    "\n",
    "# book_texts,queryはこれまでと同じ\n",
    "# 結果を再現するためにrandom_stateを設定する\n",
    "nmf_result = nmf_search(book_texts,query,num_topics,random_state=7)\n",
    "pprint(nmf_result)\n",
    "\n",
    "# NMFに基づく検索の性能評価\n",
    "right_answer = [0,1,0,1,0,1,0,0,1,1]\n",
    "\n",
    "nmf_ranking = [x[0] for x in nmf_result]\n",
    "print('%.4f' % cf.get_average_precision(nmf_ranking,right_answer))"
   ]
  },
  {
   "cell_type": "markdown",
   "id": "86a363e7",
   "metadata": {},
   "source": [
    "## 9.3 潜在的ディリクレ配分法"
   ]
  },
  {
   "cell_type": "code",
   "execution_count": 13,
   "id": "2f7e947e",
   "metadata": {},
   "outputs": [
    {
     "name": "stdout",
     "output_type": "stream",
     "text": [
      "パームアイランドはドバイの沖合に造られた人工島群で，ヤシの木をモチーフにデザインされています．この人工島には大型商業施設やホテル，別荘やなどが建てられています．\r\n",
      "\n",
      "[(0, 0.043922454),\n",
      " (1, 0.825511),\n",
      " (2, 0.043527253),\n",
      " (3, 0.04351666),\n",
      " (4, 0.04352258)]\n"
     ]
    }
   ],
   "source": [
    "# LDAモデルの作成\n",
    "from gensim.models import LdaModel\n",
    "from pprint import pprint\n",
    "\n",
    "# LDAモデルの作成(この処理の中でトピックが計算される)\n",
    "# dic,tfidf_weightsなどはリスト9.1で定義されたもの\n",
    "# 再現性をもたせるためrandom_stateに特定の値(6)を設定する\n",
    "lda_model = LdaModel(corpus=tfidf_weights,id2word=dic,num_topics=5,passes=20,random_state=6)\n",
    "\n",
    "# 文書ベクトルからトピックの分布を計算\n",
    "lda_weights = lda_model[tfidf_weights]\n",
    "\n",
    "# 1番文書の内容を表示する\n",
    "print(book_texts[0])\n",
    "\n",
    "# 1番文書のトピックの確率分布を表示する\n",
    "pprint(lda_weights[0])"
   ]
  },
  {
   "cell_type": "code",
   "execution_count": 14,
   "id": "8287f437",
   "metadata": {},
   "outputs": [
    {
     "name": "stdout",
     "output_type": "stream",
     "text": [
      "0.041*\"知能\" + 0.030*\"人工\" + 0.021*\"ネットワーク\" + 0.017*\"マービン・ミンスキー\"\n"
     ]
    }
   ],
   "source": [
    "# トピックの特徴語の表示\n",
    "# 0番トピックの確率分布のうち上位4語を表示\n",
    "print(lda_model.print_topic(0,4))"
   ]
  },
  {
   "cell_type": "code",
   "execution_count": 15,
   "id": "c84a6090",
   "metadata": {},
   "outputs": [],
   "source": [
    "# lda_search関数\n",
    "def lda_search(texts,query,num_topics,passes=20,random_state=None):\n",
    "    tfidf_model,dic,text_tfidf_weights = cf.get_tfidfmodel_and_weights(texts)\n",
    "\n",
    "    from gensim.similarities import MatrixSimilarity\n",
    "\n",
    "    # LDAモデルを作成\n",
    "    lda_model = LdaModel(corpus=text_tfidf_weights,id2word=dic,num_topics=num_topics,passes=passes,random_state=random_state)\n",
    "    lda_weights = lda_model[text_tfidf_weights]\n",
    "    index = MatrixSimilarity(lda_weights,num_features=len(dic))\n",
    "    \n",
    "    query_bows = cf.get_bows([query],dic)\n",
    "    query_tfidf_weights = cf.get_weights(query_bows,dic,tfidf_model)\n",
    "    query_lda_weights = lda_model[query_tfidf_weights]\n",
    "    \n",
    "    sims = index[query_lda_weights[0]]\n",
    "    return sorted(enumerate(sims),key=lambda x: x[1],reverse=True)"
   ]
  },
  {
   "cell_type": "code",
   "execution_count": 16,
   "id": "f917b065",
   "metadata": {},
   "outputs": [
    {
     "name": "stdout",
     "output_type": "stream",
     "text": [
      "0.9633\n"
     ]
    }
   ],
   "source": [
    "# LDAに基づく検索の性能評価\n",
    "# トピック数を5に設定\n",
    "num_topics = 5\n",
    "right_answer = [0,1,0,1,0,1,0,0,1,1]\n",
    "query = '人工知能'\n",
    "\n",
    "lda_result = lda_search(book_texts,query,num_topics,random_state=6)\n",
    "lda_ranking = tuple([x[0] for x in lda_result])\n",
    "print('%.4f' % cf.get_average_precision(lda_ranking,right_answer))"
   ]
  },
  {
   "cell_type": "code",
   "execution_count": 17,
   "id": "74295c76",
   "metadata": {},
   "outputs": [
    {
     "name": "stdout",
     "output_type": "stream",
     "text": [
      "0: 0.9183\n",
      "1: 0.9183\n",
      "2: 0.7563\n",
      "3: 0.5677\n",
      "4: 0.7514\n",
      "平均: 0.7824\n"
     ]
    }
   ],
   "source": [
    "# LDAに基づく検索の性能評価(複数回)\n",
    "# トピック数を5に設定\n",
    "num_topics = 5\n",
    "\n",
    "# 検索の試行回数を5に設定\n",
    "num_trials = 5\n",
    "sum_of_ap = 0.0\n",
    "\n",
    "right_answer = [0,1,0,1,0,1,0,0,1,1]\n",
    "query = '人工知能'\n",
    "\n",
    "for i in range(num_trials):\n",
    "    lda_result = lda_search(book_texts,query,num_topics)\n",
    "    lda_ranking = tuple([x[0] for x in lda_result])\n",
    "    ap = cf.get_average_precision(lda_ranking,right_answer)\n",
    "    print('%d: %.4f' % (i,ap))\n",
    "    sum_of_ap += ap\n",
    "print('平均: %.4f' % (sum_of_ap / num_trials))"
   ]
  },
  {
   "cell_type": "code",
   "execution_count": null,
   "id": "76c55325",
   "metadata": {},
   "outputs": [],
   "source": []
  }
 ],
 "metadata": {
  "kernelspec": {
   "display_name": "Python 3 (ipykernel)",
   "language": "python",
   "name": "python3"
  },
  "language_info": {
   "codemirror_mode": {
    "name": "ipython",
    "version": 3
   },
   "file_extension": ".py",
   "mimetype": "text/x-python",
   "name": "python",
   "nbconvert_exporter": "python",
   "pygments_lexer": "ipython3",
   "version": "3.9.7"
  }
 },
 "nbformat": 4,
 "nbformat_minor": 5
}
